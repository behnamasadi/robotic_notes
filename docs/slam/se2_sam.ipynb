{
 "cells": [
  {
   "cell_type": "markdown",
   "id": "01790b47-5157-4e63-b820-5458d5b2dbd2",
   "metadata": {},
   "source": [
    "# 2D Smoothing and Mapping (SAM)\n",
    "\n",
    "## Overview\n",
    "\n",
    "This document describes a 2D Smoothing and Mapping (SAM) demo inspired by **Sola-18** (refer to [the paper](https://arxiv.org/abs/1812.01537) for details). A 3D version of this example is available in `se3_sam.cpp`, and a simpler localization example using EKF can be found in `se2_localization.cpp`.\n",
    "\n",
    "We consider a robot in 2D space surrounded by a small number of punctual landmarks or _beacons_. The robot receives control actions in the form of axial and angular velocities and can measure the location of the beacons relative to its own reference frame.\n",
    "\n",
    "## Variables and Equations\n",
    "\n",
    "The robot pose $X_i $ is in $SE(2) $, and the beacon positions $b_k $ are in $\\mathbb{R}^2 $:\n",
    "\n",
    "$\n",
    "X_i = \\begin{pmatrix} R_i & t_i \\\\ 0 & 1 \\end{pmatrix}\n",
    "$\n",
    "where $R_i $ is the rotation matrix and $t_i $ the translation vector.\n",
    "\n",
    "$\n",
    "b_k = (b_{x_k}, b_{y_k})\n",
    "$\n",
    "represents the beacon coordinates in the world frame.\n",
    "\n",
    "### Control Signal\n",
    "The control signal $u $ is a twist in $se(2) $, comprising longitudinal velocity $v_x $ and angular velocity $w $:\n",
    "\n",
    "$\n",
    "u = (v_x \\cdot \\Delta t, 0, w \\cdot \\Delta t)\n",
    "$\n",
    "\n",
    "The control is corrupted by additive Gaussian noise $u_{\\text{noise}} $, with covariance $Q $:\n",
    "\n",
    "$\n",
    "Q = \\text{diag}(\\sigma_v^2, \\sigma_s^2, \\sigma_{\\text{yaw}}^2)\n",
    "$\n",
    "\n",
    "Upon receiving a control $u $, a new robot pose is created at:\n",
    "\n",
    "$\n",
    "X_j = X_i \\cdot \\exp(u)\n",
    "$\n",
    "\n",
    "### Landmark Measurements\n",
    "Landmark measurements are of the range and bearing type but represented in Cartesian form for simplicity:\n",
    "\n",
    "$\n",
    "y = (y_x, y_y)\n",
    "$\n",
    "\n",
    "The noise $n $ in measurements is zero-mean Gaussian, with covariance $R $. The rigid motion action $y_{ik} = h(X_i, b_k) = X_i^{-1} b_k $.\n",
    "\n",
    "## Factor Graph Representation\n",
    "\n",
    "The world comprises 5 landmarks, observed from different poses in the factor graph. Below is a graphical representation of the SAM problem:\n",
    "\n"
   ]
  },
  {
   "cell_type": "markdown",
   "id": "1a745003-d513-447b-aa71-bd9d3e99efe7",
   "metadata": {},
   "source": [
    "            ------- b1\n",
    "    b3    /         |\n",
    "    |   /       b4  |\n",
    "    | /       /    \\|\n",
    "    X0 ---- X1 ---- X2\n",
    "    | \\   /   \\   /\n",
    "    |   b0      b2\n"
   ]
  },
  {
   "cell_type": "markdown",
   "id": "c5cb9881-32c1-493c-a4cc-514b67ffbc2c",
   "metadata": {},
   "source": [
    "\n",
    "Here:\n",
    "- $X_i $ are SE(2) robot poses.\n",
    "- $b_k $ are $\\mathbb{R}^2 $ landmarks or beacons.\n",
    "- The segments indicate measurement factors:\n",
    "  - Motion measurements from $X_i $ to $X_j $.\n",
    "  - Landmark measurements from $X_i $ to $b_k $.\n",
    "  - An absolute pose measurement from $X_0 $ to the origin of coordinates.\n"
   ]
  }
 ],
 "metadata": {
  "kernelspec": {
   "display_name": "Python 3 (ipykernel)",
   "language": "python",
   "name": "python3"
  },
  "language_info": {
   "codemirror_mode": {
    "name": "ipython",
    "version": 3
   },
   "file_extension": ".py",
   "mimetype": "text/x-python",
   "name": "python",
   "nbconvert_exporter": "python",
   "pygments_lexer": "ipython3",
   "version": "3.12.2"
  }
 },
 "nbformat": 4,
 "nbformat_minor": 5
}
