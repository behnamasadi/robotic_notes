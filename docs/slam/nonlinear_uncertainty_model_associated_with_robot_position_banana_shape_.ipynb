{
 "cells": [
  {
   "cell_type": "markdown",
   "id": "70aaeb01-7357-4b3a-bcab-5dac6bc42a0f",
   "metadata": {},
   "source": [
    "## The Banana Distribution is Gaussian: A Localization Study with Exponential Coordinates\n",
    "\n",
    "Example 6.18 The banana distribution is Gaussian from [A handbook in Visual SLAM](https://github.com/tussedrotten/vslam-handbook)\n",
    "\n",
    "<img src=\"../images/banana_distribution_gaussian.png\" />"
   ]
  },
  {
   "cell_type": "markdown",
   "id": "11445174-175f-4e95-9aa9-ab5f03a1e04f",
   "metadata": {},
   "source": [
    "Refs: [1](https://www.roboticsproceedings.org/rss08/p34.pdf)"
   ]
  }
 ],
 "metadata": {
  "kernelspec": {
   "display_name": "Python 3 (ipykernel)",
   "language": "python",
   "name": "python3"
  },
  "language_info": {
   "codemirror_mode": {
    "name": "ipython",
    "version": 3
   },
   "file_extension": ".py",
   "mimetype": "text/x-python",
   "name": "python",
   "nbconvert_exporter": "python",
   "pygments_lexer": "ipython3",
   "version": "3.12.2"
  }
 },
 "nbformat": 4,
 "nbformat_minor": 5
}
